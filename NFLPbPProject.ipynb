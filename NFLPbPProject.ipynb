{
 "cells": [
  {
   "cell_type": "code",
   "execution_count": null,
   "metadata": {},
   "outputs": [],
   "source": [
    "#-# In this project, I will be analyzing the 2019 NFL season play-by-play data. I believe that there are several\n",
    "#-# tangible, situationally relevant insights that can be gained from this data. My initial plan is as follows:\n",
    "#--# 1) Exploratory Data Analysis\n",
    "#---# a) Check Data types\n",
    "#---# b) Check distributions/correlations\n",
    "#---# c) Feature engineering (if necessary)\n",
    "#---# d) Model Iteration\n",
    "#--# 2) Understand Data/Probabilties\n",
    "#--# 3) Build Inferences\n",
    "#--# 4) Test Inferences on New Data (Playoffs '19 or Reg Season '18)\n"
   ]
  },
  {
   "cell_type": "code",
   "execution_count": null,
   "metadata": {},
   "outputs": [],
   "source": [
    "### First, I need to import the relevant data analysis and visualization package tools\n",
    "import pandas as pd\n",
    "import numpy as np\n",
    "import matplotlib.pyplot as plt\n",
    "import seaborn as sns\n",
    "%matplotlib inline"
   ]
  },
  {
   "cell_type": "code",
   "execution_count": 56,
   "metadata": {},
   "outputs": [
    {
     "name": "stdout",
     "output_type": "stream",
     "text": [
      "<class 'pandas.core.frame.DataFrame'>\n",
      "RangeIndex: 87202 entries, 0 to 87201\n",
      "Data columns (total 41 columns):\n",
      "GameId                            87202 non-null int64\n",
      "GameDate                          87202 non-null object\n",
      "Quarter                           87202 non-null int64\n",
      "Minute                            87202 non-null int64\n",
      "Second                            87202 non-null int64\n",
      "OffenseTeam                       80656 non-null object\n",
      "DefenseTeam                       87202 non-null object\n",
      "Down                              87202 non-null int64\n",
      "ToGo                              87202 non-null int64\n",
      "YardLine                          87202 non-null int64\n",
      "SeriesFirstDown                   87202 non-null int64\n",
      "Description                       87202 non-null object\n",
      "SeasonYear                        87202 non-null int64\n",
      "Yards                             87202 non-null int64\n",
      "Formation                         85712 non-null object\n",
      "PlayType                          84188 non-null object\n",
      "IsRush                            87202 non-null int64\n",
      "IsPass                            87202 non-null int64\n",
      "IsIncomplete                      87202 non-null int64\n",
      "IsTouchdown                       87202 non-null int64\n",
      "PassType                          36006 non-null object\n",
      "IsSack                            87202 non-null int64\n",
      "IsChallenge                       87202 non-null int64\n",
      "IsChallengeReversed               87202 non-null int64\n",
      "Challenger                        0 non-null float64\n",
      "IsMeasurement                     87202 non-null int64\n",
      "IsInterception                    87202 non-null int64\n",
      "IsFumble                          87202 non-null int64\n",
      "IsPenalty                         87202 non-null int64\n",
      "IsTwoPointConversion              87202 non-null int64\n",
      "IsTwoPointConversionSuccessful    87202 non-null int64\n",
      "RushDirection                     23508 non-null object\n",
      "YardLineFixed                     87202 non-null int64\n",
      "YardLineDirection                 87202 non-null object\n",
      "IsPenaltyAccepted                 87202 non-null int64\n",
      "PenaltyTeam                       7594 non-null object\n",
      "IsNoPlay                          87202 non-null int64\n",
      "PenaltyType                       7596 non-null object\n",
      "PenaltyYards                      87202 non-null int64\n",
      "Unnamed: 12                       0 non-null float64\n",
      "Unnamed: 13                       0 non-null float64\n",
      "dtypes: float64(3), int64(27), object(11)\n",
      "memory usage: 27.3+ MB\n"
     ]
    }
   ],
   "source": [
    "### Second, I must collect, load, and clean my data. I have collected my data in csv form\n",
    "### from http://nflsavant.com/about.php and have loaded both 2018 and 2019 data into a Pandas DataFrame\n",
    "\n",
    "pbp19 = pd.read_csv('pbp-2019-2.csv')\n",
    "pbp18 = pd.read_csv('pbp-2018.csv')\n",
    "pbp = pd.concat([pbp19,pbp18],ignore_index=True,sort=False)\n",
    "pbp.info()"
   ]
  },
  {
   "cell_type": "code",
   "execution_count": null,
   "metadata": {},
   "outputs": [],
   "source": [
    "### Get acquainted with data, including data types, common statistical mesaures of variables, and column names\n",
    "#pbp19.columns\n",
    "#pbp19.info()\n",
    "#pbp19.describe()\n",
    "\n",
    "### After analyzing the data, here are somethings that I've learned:\n",
    "#   1) There are 39 different features (1 float64, 27 int64, 11 obj)\n",
    "#   2) There are 42186 examples\n",
    "#   3) \n"
   ]
  },
  {
   "cell_type": "code",
   "execution_count": 91,
   "metadata": {},
   "outputs": [
    {
     "name": "stdout",
     "output_type": "stream",
     "text": [
      "<class 'pandas.core.frame.DataFrame'>\n",
      "Int64Index: 5826 entries, 4 to 87154\n",
      "Data columns (total 39 columns):\n",
      "GameId                            5826 non-null int64\n",
      "GameDate                          5826 non-null object\n",
      "Quarter                           5826 non-null int64\n",
      "Minute                            5826 non-null int64\n",
      "Second                            5826 non-null int64\n",
      "OffenseTeam                       5826 non-null object\n",
      "DefenseTeam                       5826 non-null object\n",
      "Down                              5826 non-null int64\n",
      "ToGo                              5826 non-null int64\n",
      "YardLine                          5826 non-null int64\n",
      "SeriesFirstDown                   5826 non-null int64\n",
      "Description                       5826 non-null object\n",
      "SeasonYear                        5826 non-null int64\n",
      "Yards                             5826 non-null int64\n",
      "Formation                         5826 non-null object\n",
      "PlayType                          5826 non-null object\n",
      "IsRush                            5826 non-null int64\n",
      "IsPass                            5826 non-null int64\n",
      "IsIncomplete                      5826 non-null int64\n",
      "IsTouchdown                       5826 non-null int64\n",
      "PassType                          3914 non-null object\n",
      "IsSack                            5826 non-null int64\n",
      "IsChallenge                       5826 non-null int64\n",
      "IsChallengeReversed               5826 non-null int64\n",
      "Challenger                        0 non-null float64\n",
      "IsMeasurement                     5826 non-null int64\n",
      "IsInterception                    5826 non-null int64\n",
      "IsFumble                          5826 non-null int64\n",
      "IsPenalty                         5826 non-null int64\n",
      "IsTwoPointConversion              5826 non-null int64\n",
      "IsTwoPointConversionSuccessful    5826 non-null int64\n",
      "RushDirection                     1912 non-null object\n",
      "YardLineFixed                     5826 non-null int64\n",
      "YardLineDirection                 5826 non-null object\n",
      "IsPenaltyAccepted                 5826 non-null int64\n",
      "PenaltyTeam                       475 non-null object\n",
      "IsNoPlay                          5826 non-null int64\n",
      "PenaltyType                       475 non-null object\n",
      "PenaltyYards                      5826 non-null int64\n",
      "dtypes: float64(1), int64(27), object(11)\n",
      "memory usage: 1.8+ MB\n"
     ]
    }
   ],
   "source": [
    "### WHAT DATA IS BLANK/UNNECESSARY\n",
    "\n",
    "## FILTER OUT UNNAMED COLUMNS\n",
    "# There are some empty columns at the end of my data after\n",
    "# concatinating yearly data\n",
    "\n",
    "nfl19 = pbp.iloc[:,0:-2]\n",
    "\n",
    "\n",
    "## FILTER OUT ROWS FOR OBSCURE PLAY TYPES LIKE CLOCK STOPS, TIMEOUTS, ETC\n",
    "# Next, I only want to filter rows to look at certain types of plays. Particularly, I am interested in pass plays, \n",
    "# run plays, punts, and field goals. I'll use pandas groupby to analyze the playtypes and use\n",
    "# \"isin()\" to define the column value conditions to filter my rows and form a robust, clean data set ready to analyze\n",
    "\n",
    "nfl19.groupby('PlayType').count()\n",
    "off_plays = ['PASS','RUSH']\n",
    "downs = [3,4]\n",
    "formations = ['NO HUDDLE','NO HUDDLE SHOTGUN','SHOTGUN','UNDER CENTER']\n",
    "nfl_clean = nfl19[nfl19['PlayType'].isin(off_plays)]\n",
    "nfl_clean = nfl_clean[nfl_clean['Down'].isin(downs)]\n",
    "nfl_clean = nfl_clean[nfl_clean['ToGo'] <=5]\n",
    "nfl_clean = nfl_clean[nfl_clean['Formation'].isin(formations)]\n",
    "nfl_clean.groupby('Formation').count()\n",
    "nfl_clean.info()"
   ]
  },
  {
   "cell_type": "code",
   "execution_count": 58,
   "metadata": {},
   "outputs": [],
   "source": [
    "### What particular features are necessary to fully define a play situation?\n",
    "\n",
    "\n",
    "## Define situation as defined by Time left, Down, Togo, and Yardline - I engineer the feature \"TimeLeft\" \n",
    "## by linearly transforming the Minute and Second columns to one \"TimeLeft\" column\n",
    "situation = nfl_clean.loc[:,['Quarter', 'Minute', 'Second', 'Down', 'ToGo', 'YardLine','PlayType','Yards']]\n",
    "situation['Time Left'] = situation['Minute']*60 + situation['Second']\n",
    "situation = situation.drop(['Minute','Second'],axis=1)\n",
    "\n",
    "#sns.scatterplot('Time Left','ToGo',data=situation,hue='PlayType',palette='coolwarm')\n",
    "#sns.heatmap(situation.drop(['PlayType'],axis=1).corr(),annot=True)"
   ]
  },
  {
   "cell_type": "code",
   "execution_count": 13,
   "metadata": {},
   "outputs": [],
   "source": [
    "### I've done some basic EDA and essentially have come up with a question to ask:\n",
    "### Given 'Situation' such that situation provides all necessary variables to define an NFL in-game pre-play \n",
    "### situation what \"PlayType\" should be chosen based on optimizing \"Play Success\", defined as a function of\n",
    "### \"Yards\",\"SeriesFirstDown\", and \"IsTouchdown\""
   ]
  },
  {
   "cell_type": "code",
   "execution_count": 59,
   "metadata": {},
   "outputs": [],
   "source": [
    "#sns.scatterplot('ToGo','Yards',data=nfl_clean,hue='PlayType',palette='coolwarm')\n",
    "\n",
    "### Plots for categorical data like 'PlayType'\n",
    "#sns.barplot('PlayType','Yards',data=nfl_clean,estimator=np.std)\n",
    "#sns.boxplot('PlayType','Yards',data=nfl_clean,hue='SeriesFirstDown')\n",
    "#sns.barplot('PassType','ToGo',data=nfl_clean,hue='SeriesFirstDown')\n",
    "#sns.stripplot('PlayType','Yards',data=nfl_clean,jitter=True,hue='IsTouchdown',dodge=True)\n",
    "sns.factorplot('PlayType','Yards',data=nfl_clean,kind='bar')"
   ]
  },
  {
   "cell_type": "code",
   "execution_count": 85,
   "metadata": {},
   "outputs": [
    {
     "data": {
      "text/plain": [
       "<seaborn.matrix.ClusterGrid at 0x1a1ee84be0>"
      ]
     },
     "execution_count": 85,
     "metadata": {},
     "output_type": "execute_result"
    },
    {
     "data": {
      "image/png": "[encoded data removed]",
      "text/plain": [
       "<Figure size 720x720 with 4 Axes>"
      ]
     },
     "metadata": {
      "needs_background": "light"
     },
     "output_type": "display_data"
    }
   ],
   "source": [
    "### Pivot Table to better show heatmap and clustermap\n",
    "nfl_pivot = nfl_clean.pivot_table(index='Formation',columns='ToGo',values='SeriesFirstDown')\n",
    "#sns.heatmap(nfl_pivot,annot=True,cmap='Reds',linecolor='white',linewidth='1')\n",
    "sns.clustermap(nfl_pivot,cmap='Blues')"
   ]
  },
  {
   "cell_type": "code",
   "execution_count": null,
   "metadata": {},
   "outputs": [],
   "source": [
    "### OK here we go:\n",
    "# SITUATION: 3rd and 4th down -- less than 5 yards \n",
    "# Ignore Yardline/TimeLeft/Quarter for now\n",
    "# What PlayType and what formation???\n"
   ]
  },
  {
   "cell_type": "code",
   "execution_count": 89,
   "metadata": {},
   "outputs": [
    {
     "name": "stderr",
     "output_type": "stream",
     "text": [
      "/Users/veeralshah/anaconda3/lib/python3.7/site-packages/seaborn/axisgrid.py:715: UserWarning: Using the barplot function without specifying `order` is likely to produce an incorrect plot.\n",
      "  warnings.warn(warning)\n"
     ]
    },
    {
     "data": {
      "text/plain": [
       "<seaborn.axisgrid.FacetGrid at 0x1a24ce8208>"
      ]
     },
     "execution_count": 89,
     "metadata": {},
     "output_type": "execute_result"
    },
    {
     "data": {
      "image/png": "[encoded data removed]",
      "text/plain": [
       "<Figure size 432x432 with 4 Axes>"
      ]
     },
     "metadata": {
      "needs_background": "light"
     },
     "output_type": "display_data"
    }
   ],
   "source": [
    "g=sns.FacetGrid(data=nfl_clean,col='PlayType',row='Down')\n",
    "g.map(sns.barplot,'ToGo','Yards')"
   ]
  },
  {
   "cell_type": "code",
   "execution_count": null,
   "metadata": {
    "scrolled": true
   },
   "outputs": [],
   "source": []
  },
  {
   "cell_type": "code",
   "execution_count": null,
   "metadata": {},
   "outputs": [],
   "source": []
  },
  {
   "cell_type": "code",
   "execution_count": null,
   "metadata": {},
   "outputs": [],
   "source": []
  }
 ],
 "metadata": {
  "kernelspec": {
   "display_name": "Python 3",
   "language": "python",
   "name": "python3"
  },
  "language_info": {
   "codemirror_mode": {
    "name": "ipython",
    "version": 3
   },
   "file_extension": ".py",
   "mimetype": "text/x-python",
   "name": "python",
   "nbconvert_exporter": "python",
   "pygments_lexer": "ipython3",
   "version": "3.7.3"
  }
 },
 "nbformat": 4,
 "nbformat_minor": 2
}
